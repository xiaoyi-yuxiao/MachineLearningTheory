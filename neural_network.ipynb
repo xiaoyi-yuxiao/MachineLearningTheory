{
  "nbformat": 4,
  "nbformat_minor": 0,
  "metadata": {
    "colab": {
      "name": "neural_network.ipynb",
      "provenance": [],
      "collapsed_sections": [],
      "authorship_tag": "ABX9TyMSL4jQ3oCfpkGCpavvtjwR",
      "include_colab_link": true
    },
    "kernelspec": {
      "name": "python3",
      "display_name": "Python 3"
    }
  },
  "cells": [
    {
      "cell_type": "markdown",
      "metadata": {
        "id": "view-in-github",
        "colab_type": "text"
      },
      "source": [
        "<a href=\"https://colab.research.google.com/github/xiaoyi-yuxiao/MachineLearningTheory/blob/master/neural_network.ipynb\" target=\"_parent\"><img src=\"https://colab.research.google.com/assets/colab-badge.svg\" alt=\"Open In Colab\"/></a>"
      ]
    },
    {
      "cell_type": "code",
      "metadata": {
        "id": "A8zRNAE1CVbs",
        "outputId": "b5838b4d-9b4c-4350-d484-3a31a7c1552d",
        "colab": {
          "base_uri": "https://localhost:8080/",
          "height": 357
        }
      },
      "source": [
        "pip install yfinance"
      ],
      "execution_count": null,
      "outputs": [
        {
          "output_type": "stream",
          "text": [
            "Collecting yfinance\n",
            "  Downloading https://files.pythonhosted.org/packages/c2/31/8b374a12b90def92a4e27d0fc595fc43635f395984e36a075244d98bd265/yfinance-0.1.54.tar.gz\n",
            "Requirement already satisfied: pandas>=0.24 in /usr/local/lib/python3.6/dist-packages (from yfinance) (1.0.5)\n",
            "Requirement already satisfied: numpy>=1.15 in /usr/local/lib/python3.6/dist-packages (from yfinance) (1.18.5)\n",
            "Requirement already satisfied: requests>=2.20 in /usr/local/lib/python3.6/dist-packages (from yfinance) (2.23.0)\n",
            "Requirement already satisfied: multitasking>=0.0.7 in /usr/local/lib/python3.6/dist-packages (from yfinance) (0.0.9)\n",
            "Requirement already satisfied: pytz>=2017.2 in /usr/local/lib/python3.6/dist-packages (from pandas>=0.24->yfinance) (2018.9)\n",
            "Requirement already satisfied: python-dateutil>=2.6.1 in /usr/local/lib/python3.6/dist-packages (from pandas>=0.24->yfinance) (2.8.1)\n",
            "Requirement already satisfied: chardet<4,>=3.0.2 in /usr/local/lib/python3.6/dist-packages (from requests>=2.20->yfinance) (3.0.4)\n",
            "Requirement already satisfied: urllib3!=1.25.0,!=1.25.1,<1.26,>=1.21.1 in /usr/local/lib/python3.6/dist-packages (from requests>=2.20->yfinance) (1.24.3)\n",
            "Requirement already satisfied: idna<3,>=2.5 in /usr/local/lib/python3.6/dist-packages (from requests>=2.20->yfinance) (2.9)\n",
            "Requirement already satisfied: certifi>=2017.4.17 in /usr/local/lib/python3.6/dist-packages (from requests>=2.20->yfinance) (2020.6.20)\n",
            "Requirement already satisfied: six>=1.5 in /usr/local/lib/python3.6/dist-packages (from python-dateutil>=2.6.1->pandas>=0.24->yfinance) (1.12.0)\n",
            "Building wheels for collected packages: yfinance\n",
            "  Building wheel for yfinance (setup.py) ... \u001b[?25l\u001b[?25hdone\n",
            "  Created wheel for yfinance: filename=yfinance-0.1.54-py2.py3-none-any.whl size=22409 sha256=678aad27596e7972d508b136c66e5b3fd753a4625f97987911d11ea0824062a1\n",
            "  Stored in directory: /root/.cache/pip/wheels/f9/e3/5b/ec24dd2984b12d61e0abf26289746c2436a0e7844f26f2515c\n",
            "Successfully built yfinance\n",
            "Installing collected packages: yfinance\n",
            "Successfully installed yfinance-0.1.54\n"
          ],
          "name": "stdout"
        }
      ]
    },
    {
      "cell_type": "code",
      "metadata": {
        "id": "RBBhnXZWCQg2"
      },
      "source": [
        "import yfinance as yf\n",
        "import numpy as np"
      ],
      "execution_count": null,
      "outputs": []
    },
    {
      "cell_type": "markdown",
      "metadata": {
        "id": "C7rX-DBMKVZI"
      },
      "source": [
        "need to add a global variable self.method. so we can make suitable gradient in backprop function"
      ]
    },
    {
      "cell_type": "code",
      "metadata": {
        "id": "GZCW3PX1lAt6"
      },
      "source": [
        "class dynamic_NN:\n",
        "\n",
        "  def __init__(self, X, Y, **kwargs):\n",
        "    \n",
        "    #usr should explicitly define layer0 to last layer\n",
        "    self.__NN_layer_dict = kwargs\n",
        "    self.__Y = Y\n",
        "    #theta is dict with 'layer0': 5*3 ...\n",
        "    self.__theta = self.construct_theta()\n",
        "    self.__forward_prop = {'layer0':X}\n",
        "    self.__m = len(Y)\n",
        "\n",
        "  def construct_theta(self):\n",
        "\n",
        "    theta = {}\n",
        "    epsilon_init = 0.12\n",
        "    for layer in range(len(self.__NN_layer_dict)-1):\n",
        "      theta['layer'+str(layer)] = np.random.rand(self.__NN_layer_dict['layer'+str(layer+1)], self.__NN_layer_dict['layer'+str(layer)]+1)*epsilon_init -epsilon_init\n",
        "\n",
        "    return theta\n",
        "\n",
        "  def activate(self,method,X):\n",
        "    #allow user to choose activation method in each layer from layer 1\n",
        "    if method == 'sigmoid':\n",
        "      result = 1/(1+np.exp(-1*X))\n",
        "\n",
        "    return result\n",
        "\n",
        "  ##add one to the layer\n",
        "  def add_ones(self,layer_X):\n",
        "\n",
        "    _,num_sample = np.shape(layer_X)\n",
        "    ones = np.ones((1,num_sample))\n",
        "    result_X = np.insert(layer_X,0,ones,axis=0)\n",
        "\n",
        "    return result_X\n",
        "\n",
        "  def forward_propagation(self,methods):\n",
        "\n",
        "    #for i = 1 to len(NN_dict)\n",
        "    for layer_num in range(1,len(self.__NN_layer_dict)):\n",
        "\n",
        "      #compute i layer using forward prop i-1\n",
        "      preparation = self.add_ones(self.__forward_prop['layer'+str(layer_num-1)])\n",
        "\n",
        "      Z_val = np.dot(self.__theta['layer'+str(layer_num-1)], preparation)\n",
        "\n",
        "      #allow user to choose activation method in each layer from layer 1\n",
        "      Activation = self.activate(methods['layer'+str(layer_num)],Z_val)\n",
        "\n",
        "      self.__forward_prop['layer'+str(layer_num)] = Activation\n",
        "  \n",
        "  def compute_cost(self, penalty_lambda):\n",
        "    \n",
        "    #compute last layer hypothesis\n",
        "    pos = len(self.__NN_layer_dict) - 1 #find the label of last layer\n",
        "    hypos = self.__forward_prop['layer'+str(pos)]\n",
        "\n",
        "    #compute logged hypothesis\n",
        "    log_hypos = np.log(hypos)\n",
        "\n",
        "    #compute sum theta sq\n",
        "    sum_theta_sq = 0\n",
        "    for layer in self.__NN_layer_dict:\n",
        "\n",
        "      temp = self.__NN_layer_dict[layer]\n",
        "      temp = np.square(temp)\n",
        "      sum_theta_sq = sum_theta_sq + np.sum(temp)\n",
        "\n",
        "    #compute regularization term\n",
        "    regularization = penalty_lambda/(2*self.__m)*sum_theta_sq\n",
        "    cost = -1/self.__m * (np.dot(self.__Y, log_hypos.transpose()) + np.dot(1-self.__Y, (1-log_hypos).transpose())) + regularization\n",
        "    \n",
        "    return cost\n",
        "\n",
        "  def sigmoid_gradient(self,Z):\n",
        "    \n",
        "    gradient = np.multiply(Z,1-Z)\n",
        "    return gradient\n",
        "\n",
        "  def backward_propagation(self,penalty_lambda):\n",
        "\n",
        "    pos = len(self.__NN_layer_dict) - 1 #find the label of last layer (if num-of-layer = 3, pos = 2) \n",
        "    hypos = self.__forward_prop['layer'+str(pos)] \n",
        "\n",
        "    delta_last_layer = self.__Y - hypos\n",
        "    delta = {'layer'+str(pos):delta_last_layer}\n",
        "\n",
        "    #from layer last-1 to 1 find delta(i.e from 1 to 1)\n",
        "    for layer in reversed(range(1,pos)):\n",
        "      delta_temp = np.dot(self.__theta['layer'+str(layer)][:,1:].transpose(), delta['layer'+str(layer+1)])\n",
        "      ##if method is not sigmoid, make an if statement to select right method\n",
        "      delta_temp = np.multiply(delta_temp, self.sigmoid_gradient(self.__forward_prop['layer'+str(layer)]))\n",
        "      delta['layer'+str(layer)] = delta_temp\n",
        "\n",
        "    gradient = {}\n",
        "    #i.e from 0 to 1\n",
        "    for layer in range(pos):\n",
        "      activation = self.add_ones(self.__forward_prop['layer'+str(layer)])\n",
        "      gradient_temp = 1/self.__m * np.dot(delta['layer'+str(layer+1)], activation.transpose())\n",
        "\n",
        "      theta_no_bias = self.__theta['layer'+str(layer)][:,1:]\n",
        "      gradient_temp[:,1:] = gradient_temp[:,1:] + penalty_lambda/self.__m* theta_no_bias\n",
        "\n",
        "      gradient['layer'+str(layer)] = gradient_temp\n",
        "\n",
        "    return gradient\n",
        "\n",
        "  def start_learning(self,**kwargs):\n",
        "\n",
        "    self.forward_propagation(kwargs)\n",
        "\n",
        "    return self.__forward_prop\n",
        "    \n",
        "\n",
        "  def get_NN_layer_dict(self):\n",
        "\n",
        "    print(self.__NN_layer_dict)\n",
        "\n",
        "  def get_theta(self):\n",
        "\n",
        "    print(self.__theta)"
      ],
      "execution_count": null,
      "outputs": []
    },
    {
      "cell_type": "code",
      "metadata": {
        "id": "RIjDVF4mvhW3"
      },
      "source": [
        "  def handle_data(Y,*args):\n",
        "\n",
        "    def __set_Y(Y):\n",
        "    \n",
        "      Y[Y>0] = 1\n",
        "      Y[Y<0] = 0\n",
        "      return Y\n",
        "\n",
        "    Y = Y.to_numpy()\n",
        "    Y_reshaped = Y.reshape((1,len(Y)))\n",
        "    Y_reshaped = (Y_reshaped-Y_reshaped.mean())/np.std(Y_reshaped)\n",
        "    final_Y = __set_Y(Y_reshaped)\n",
        "    ##get empty x array\n",
        "    X = np.array([])\n",
        "    for arg in args:\n",
        "\n",
        "      arg = arg.to_numpy()\n",
        "      arg_reshaped = arg.reshape((1,len(arg)))\n",
        "      arg_reshaped = (arg_reshaped-arg_reshaped.mean())/np.std(arg_reshaped)\n",
        "      X = np.append(X,[arg_reshaped])\n",
        "\n",
        "    #reshape the appended x to the shape we want\n",
        "    X_reshaped = X.reshape((len(args),len(Y)))\n",
        "\n",
        "    return X_reshaped,Y_reshaped"
      ],
      "execution_count": null,
      "outputs": []
    },
    {
      "cell_type": "code",
      "metadata": {
        "id": "SYbhvIpGCNjM",
        "outputId": "41cd450d-0777-4ded-ede4-5283b9a2d75a",
        "colab": {
          "base_uri": "https://localhost:8080/",
          "height": 51
        }
      },
      "source": [
        "start = '2012-12-12'\n",
        "end = '2012-12-30'\n",
        "Y = yf.download('AAPL',start=start,end=end,interval='1d')['Adj Close']\n",
        "X = yf.download('^GSPC',start=start,end=end,interval='1d')\n",
        "X_price = X['Adj Close']\n",
        "X_vol = X['Volume']\n",
        "X_open = X['Open']"
      ],
      "execution_count": null,
      "outputs": [
        {
          "output_type": "stream",
          "text": [
            "[*********************100%***********************]  1 of 1 completed\n",
            "[*********************100%***********************]  1 of 1 completed\n"
          ],
          "name": "stdout"
        }
      ]
    },
    {
      "cell_type": "code",
      "metadata": {
        "id": "Km9WOK94CcX3"
      },
      "source": [
        "x,y = handle_data(Y,X_open,X_price,X_vol)"
      ],
      "execution_count": null,
      "outputs": []
    },
    {
      "cell_type": "code",
      "metadata": {
        "id": "MY-SevQmp20F"
      },
      "source": [
        "test_case = dynamic_NN(x,y,layer0 = 3,layer1=4,layer2=4,layer3=1)"
      ],
      "execution_count": null,
      "outputs": []
    },
    {
      "cell_type": "code",
      "metadata": {
        "id": "S8VBe8w2qOO8",
        "outputId": "c7f06c2f-3b37-45aa-cce9-68ff19754448",
        "colab": {
          "base_uri": "https://localhost:8080/",
          "height": 629
        }
      },
      "source": [
        "test_case.start_learning(layer1 = 'sigmoid',layer2 = 'sigmoid', layer3 = 'sigmoid')"
      ],
      "execution_count": null,
      "outputs": [
        {
          "output_type": "execute_result",
          "data": {
            "text/plain": [
              "{'layer0': array([[-0.05794966,  0.0083743 , -0.92739695, -1.53983415,  0.21459463,\n",
              "          1.90582401,  0.76798162,  1.58250261,  0.18143898, -0.18022458,\n",
              "         -0.88801749, -1.06729332],\n",
              "        [ 0.18309196, -0.56757215, -1.05554339,  0.33937631,  1.70520262,\n",
              "          0.79243955,  1.44749227,  0.3219223 ,  0.03180028, -0.53598243,\n",
              "         -0.67979528, -1.98243203],\n",
              "        [ 0.4153466 ,  0.05047483, -0.09156596,  0.15782592,  1.01808766,\n",
              "          0.57868487,  0.39251481,  1.95993217, -2.08435376, -1.03160181,\n",
              "         -0.47767425, -0.88767107]]),\n",
              " 'layer1': array([[0.46801966, 0.48369828, 0.49860117, 0.47902201, 0.43599871,\n",
              "         0.44480724, 0.44556458, 0.43256029, 0.50676024, 0.50094995,\n",
              "         0.49896064, 0.5246548 ],\n",
              "        [0.49599283, 0.50988642, 0.54144037, 0.52812342, 0.45874113,\n",
              "         0.43826579, 0.45237357, 0.45148629, 0.4993061 , 0.51625082,\n",
              "         0.53419004, 0.5643338 ],\n",
              "        [0.47778456, 0.48286607, 0.50223853, 0.50867287, 0.46244898,\n",
              "         0.43976417, 0.46289068, 0.42326828, 0.51477226, 0.50411157,\n",
              "         0.50777198, 0.51821706],\n",
              "        [0.47594038, 0.4905016 , 0.52077835, 0.50566349, 0.43834223,\n",
              "         0.42163305, 0.43361709, 0.43311298, 0.48195411, 0.49749926,\n",
              "         0.51379004, 0.54459348]]),\n",
              " 'layer2': array([[0.48356848, 0.48312019, 0.48240139, 0.48284986, 0.48461388,\n",
              "         0.48482644, 0.48453092, 0.48495147, 0.48271071, 0.48265589,\n",
              "         0.48245508, 0.48162017],\n",
              "        [0.44983123, 0.44942077, 0.4483659 , 0.44847549, 0.45093283,\n",
              "         0.45180767, 0.45097345, 0.45211025, 0.4486194 , 0.44868004,\n",
              "         0.44832344, 0.44748213],\n",
              "        [0.47985507, 0.47930264, 0.47828585, 0.47885992, 0.48121599,\n",
              "         0.48166149, 0.48126595, 0.48148179, 0.47927185, 0.47891135,\n",
              "         0.47846509, 0.47736312],\n",
              "        [0.44097423, 0.4401158 , 0.4385203 , 0.43941677, 0.44310275,\n",
              "         0.44382162, 0.44320444, 0.44348588, 0.44014688, 0.43953942,\n",
              "         0.43881685, 0.43709799]]),\n",
              " 'layer3': array([[0.46473778, 0.46477273, 0.46484112, 0.46480962, 0.46465045,\n",
              "         0.46461456, 0.46464761, 0.4646186 , 0.46478753, 0.46480466,\n",
              "         0.46483271, 0.46490246]])}"
            ]
          },
          "metadata": {
            "tags": []
          },
          "execution_count": 33
        }
      ]
    },
    {
      "cell_type": "code",
      "metadata": {
        "id": "mVCYCFKM5THR",
        "outputId": "6d3b3276-5fee-4ee1-b50d-9b2a4064e128",
        "colab": {
          "base_uri": "https://localhost:8080/",
          "height": 34
        }
      },
      "source": [
        "test_case.compute_cost(1)"
      ],
      "execution_count": null,
      "outputs": [
        {
          "output_type": "execute_result",
          "data": {
            "text/plain": [
              "array([[12.46893796]])"
            ]
          },
          "metadata": {
            "tags": []
          },
          "execution_count": 34
        }
      ]
    },
    {
      "cell_type": "code",
      "metadata": {
        "id": "w4-emPNm52x5",
        "outputId": "02b7d24a-47f3-4639-b1f7-6d6cd9e3c8d3",
        "colab": {
          "base_uri": "https://localhost:8080/",
          "height": 170
        }
      },
      "source": [
        "test_case.backward_propagation(1)"
      ],
      "execution_count": null,
      "outputs": [
        {
          "output_type": "execute_result",
          "data": {
            "text/plain": [
              "{'layer0': array([[-0.00036348, -0.02335872, -0.05410318, -0.05954421],\n",
              "        [-0.0004777 , -0.09099017, -0.07470322, -0.00749674],\n",
              "        [-0.00029143, -0.07065793,  0.00039806, -0.06479446],\n",
              "        [-0.00045811, -0.08414962, -0.07621036, -0.01123966]]),\n",
              " 'layer1': array([[ 0.00467148, -0.05851798, -0.01418823, -0.01845513, -0.0292495 ],\n",
              "        [ 0.00864842, -0.00447989,  0.00188316, -0.10606727, -0.05340276],\n",
              "        [ 0.00328682, -0.03676903, -0.03395873, -0.00517977, -0.07043221],\n",
              "        [ 0.01454514, -0.05335933, -0.10449977,  0.00461669, -0.04919372]]),\n",
              " 'layer2': array([[-0.57701983, -0.30748867, -0.31516397, -0.29463501, -0.34943762]])}"
            ]
          },
          "metadata": {
            "tags": []
          },
          "execution_count": 35
        }
      ]
    }
  ]
}