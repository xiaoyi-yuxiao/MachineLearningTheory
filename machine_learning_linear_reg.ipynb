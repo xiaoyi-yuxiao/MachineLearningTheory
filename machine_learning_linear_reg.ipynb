{
  "nbformat": 4,
  "nbformat_minor": 0,
  "metadata": {
    "colab": {
      "name": "machine_learning_linear_reg.ipynb",
      "provenance": [],
      "collapsed_sections": [],
      "authorship_tag": "ABX9TyN8V1BaF27ST9NqmCV7CyiS",
      "include_colab_link": true
    },
    "kernelspec": {
      "name": "python3",
      "display_name": "Python 3"
    }
  },
  "cells": [
    {
      "cell_type": "markdown",
      "metadata": {
        "id": "view-in-github",
        "colab_type": "text"
      },
      "source": [
        "<a href=\"https://colab.research.google.com/github/xiaoyi-yuxiao/MachineLearningTheory/blob/master/machine_learning_linear_reg.ipynb\" target=\"_parent\"><img src=\"https://colab.research.google.com/assets/colab-badge.svg\" alt=\"Open In Colab\"/></a>"
      ]
    },
    {
      "cell_type": "code",
      "metadata": {
        "id": "Sr7arz-hqJ08",
        "colab_type": "code",
        "colab": {
          "base_uri": "https://localhost:8080/",
          "height": 354
        },
        "outputId": "f84b3225-5ee4-45d9-821f-11414e781e14"
      },
      "source": [
        "pip install yfinance"
      ],
      "execution_count": null,
      "outputs": [
        {
          "output_type": "stream",
          "text": [
            "Collecting yfinance\n",
            "  Downloading https://files.pythonhosted.org/packages/c2/31/8b374a12b90def92a4e27d0fc595fc43635f395984e36a075244d98bd265/yfinance-0.1.54.tar.gz\n",
            "Requirement already satisfied: pandas>=0.24 in /usr/local/lib/python3.6/dist-packages (from yfinance) (1.0.5)\n",
            "Requirement already satisfied: numpy>=1.15 in /usr/local/lib/python3.6/dist-packages (from yfinance) (1.18.5)\n",
            "Requirement already satisfied: requests>=2.20 in /usr/local/lib/python3.6/dist-packages (from yfinance) (2.23.0)\n",
            "Requirement already satisfied: multitasking>=0.0.7 in /usr/local/lib/python3.6/dist-packages (from yfinance) (0.0.9)\n",
            "Requirement already satisfied: python-dateutil>=2.6.1 in /usr/local/lib/python3.6/dist-packages (from pandas>=0.24->yfinance) (2.8.1)\n",
            "Requirement already satisfied: pytz>=2017.2 in /usr/local/lib/python3.6/dist-packages (from pandas>=0.24->yfinance) (2018.9)\n",
            "Requirement already satisfied: idna<3,>=2.5 in /usr/local/lib/python3.6/dist-packages (from requests>=2.20->yfinance) (2.10)\n",
            "Requirement already satisfied: chardet<4,>=3.0.2 in /usr/local/lib/python3.6/dist-packages (from requests>=2.20->yfinance) (3.0.4)\n",
            "Requirement already satisfied: urllib3!=1.25.0,!=1.25.1,<1.26,>=1.21.1 in /usr/local/lib/python3.6/dist-packages (from requests>=2.20->yfinance) (1.24.3)\n",
            "Requirement already satisfied: certifi>=2017.4.17 in /usr/local/lib/python3.6/dist-packages (from requests>=2.20->yfinance) (2020.6.20)\n",
            "Requirement already satisfied: six>=1.5 in /usr/local/lib/python3.6/dist-packages (from python-dateutil>=2.6.1->pandas>=0.24->yfinance) (1.12.0)\n",
            "Building wheels for collected packages: yfinance\n",
            "  Building wheel for yfinance (setup.py) ... \u001b[?25l\u001b[?25hdone\n",
            "  Created wheel for yfinance: filename=yfinance-0.1.54-py2.py3-none-any.whl size=22409 sha256=c05dcf9fe6818c14afd3f59a7237244b12807f0c7cd772dd219d241def816f15\n",
            "  Stored in directory: /root/.cache/pip/wheels/f9/e3/5b/ec24dd2984b12d61e0abf26289746c2436a0e7844f26f2515c\n",
            "Successfully built yfinance\n",
            "Installing collected packages: yfinance\n",
            "Successfully installed yfinance-0.1.54\n"
          ],
          "name": "stdout"
        }
      ]
    },
    {
      "cell_type": "code",
      "metadata": {
        "id": "eMeubIIPqNsm",
        "colab_type": "code",
        "colab": {
          "base_uri": "https://localhost:8080/",
          "height": 50
        },
        "outputId": "5dde87dd-6c6d-4d30-9ad7-24f288882931"
      },
      "source": [
        "import yfinance as yf\n",
        "import numpy as np\n",
        "import pandas as pd\n",
        "import matplotlib.pyplot as plt\n",
        "import statsmodels.api as sm\n",
        "from statsmodels.formula.api import ols"
      ],
      "execution_count": null,
      "outputs": [
        {
          "output_type": "stream",
          "text": [
            "/usr/local/lib/python3.6/dist-packages/statsmodels/tools/_testing.py:19: FutureWarning: pandas.util.testing is deprecated. Use the functions in the public API at pandas.testing instead.\n",
            "  import pandas.util.testing as tm\n"
          ],
          "name": "stderr"
        }
      ]
    },
    {
      "cell_type": "code",
      "metadata": {
        "id": "vRkRUO8Sjn02",
        "colab_type": "code",
        "colab": {}
      },
      "source": [
        "class ML_OLS:\n",
        "\n",
        "  def __init__(self, X, Y):\n",
        "\n",
        "    self.__X,self.__Y = self.handle_data(X,Y)\n",
        "    self.__diff = 0\n",
        "\n",
        "  def handle_data(self,X,Y):\n",
        "    \n",
        "    #convert pandas to numpy\n",
        "    X = X.to_numpy()\n",
        "    Y = Y.to_numpy()\n",
        "    #reshape the data to form a matrix\n",
        "    X_reshaped = X.reshape((len(X),1))\n",
        "    Y_reshaped = Y.reshape((len(Y),1))\n",
        "    X_reshaped = (X_reshaped-X_reshaped.mean())/np.std(X_reshaped)\n",
        "    Y_reshaped = (Y_reshaped-Y_reshaped.mean())/np.std(Y_reshaped)\n",
        "\n",
        "    #add ones to X_reshaped\n",
        "    add_ones = np.ones([len(X),1])\n",
        "    Appended_X = np.append(add_ones,X_reshaped,axis=1)\n",
        "\n",
        "    return Appended_X,Y_reshaped\n",
        "\n",
        "  def derivative(self,theta_0,theta_1):\n",
        "\n",
        "    \n",
        "    #put theta_0 and theta_1 into a data array with shape\n",
        "    theta = np.array([theta_0,theta_1])\n",
        "\n",
        "    #calculate hypothesis reshape hypothesis\n",
        "    h = np.dot(self.__X, theta)\n",
        "    reshaped_h = h.reshape((len(h),1))\n",
        "\n",
        "    #calculate difference between Y and hypothesis\n",
        "    self.__diff = self.__Y - reshaped_h\n",
        "\n",
        "    #calculate the derivative\n",
        "    deri_theta_0 = (1/len(self.__X)) * sum(self.__Y - reshaped_h)\n",
        "    deri_theta_1 = (1/len(self.__X)) * np.dot(self.__diff.transpose(), self.__X[:,1])\n",
        "    \n",
        "    return deri_theta_0, deri_theta_1\n",
        "\n",
        "  def compute_cost(self):\n",
        "\n",
        "    cost = 1/(2*len(self.__diff))*np.dot(self.__diff.transpose(),self.__diff)\n",
        "    return cost\n",
        "\n",
        "  def update(self, learning_rate,theta_0,theta_1):\n",
        "\n",
        "    deri_theta_0, deri_theta_1 = self.derivative(theta_0,theta_1)\n",
        "    theta_0 = theta_0 + learning_rate * deri_theta_0\n",
        "    theta_1 = theta_1 + learning_rate * deri_theta_1\n",
        "    return theta_0,theta_1  \n",
        "\n",
        "\n",
        "  def summury(self, learning_rate):\n",
        "\n",
        "    #set initial\n",
        "    theta_0,theta_1 = 0,0\n",
        "\n",
        "    stop_condition = 0.05\n",
        "    #interation times\n",
        "    i = 1\n",
        "\n",
        "    #interating to find minimum derivative for theta0 and theta1\n",
        "    while True:\n",
        "\n",
        "      deri_theta_0,deri_theta_1 = self.derivative(theta_0,theta_1)\n",
        "      print(\"Cost on interation\" + str(i) + \" is \" + str(self.compute_cost()))\n",
        "      print(deri_theta_1+deri_theta_0)\n",
        "      \n",
        "      if (deri_theta_1+deri_theta_0) < stop_condition or i >1000:\n",
        "        break\n",
        "      else:\n",
        "      #updating interating times each interation\n",
        "        theta_0,theta_1 = self.update(learning_rate,theta_0,theta_1)\n",
        "\n",
        "      #add interating times\n",
        "      i = i+1\n",
        "    return theta_0,theta_1\n",
        "\n",
        "  def get_XY(self):\n",
        "    return self.__X,self.__Y"
      ],
      "execution_count": null,
      "outputs": []
    },
    {
      "cell_type": "code",
      "metadata": {
        "id": "khCLuccPkrAh",
        "colab_type": "code",
        "colab": {
          "base_uri": "https://localhost:8080/",
          "height": 50
        },
        "outputId": "5a9f528e-b233-4730-ff65-6717a55aecc6"
      },
      "source": [
        "start = '2012-12-12'\n",
        "end = '2013-12-30'\n",
        "Y = yf.download('AAPL',start=start,end=end,interval='1d')['Adj Close']\n",
        "X = yf.download('^GSPC',start=start,end=end,interval='1d')['Adj Close']\n",
        "ret_x = X.pct_change()[1:]\n",
        "ret_y = Y.pct_change()[1:]"
      ],
      "execution_count": null,
      "outputs": [
        {
          "output_type": "stream",
          "text": [
            "[*********************100%***********************]  1 of 1 completed\n",
            "[*********************100%***********************]  1 of 1 completed\n"
          ],
          "name": "stdout"
        }
      ]
    },
    {
      "cell_type": "code",
      "metadata": {
        "id": "wjrx5IRK1WwW",
        "colab_type": "code",
        "colab": {}
      },
      "source": [
        "test_case = ML_OLS(X,Y)"
      ],
      "execution_count": null,
      "outputs": []
    },
    {
      "cell_type": "code",
      "metadata": {
        "id": "_aTQRexmodDe",
        "colab_type": "code",
        "colab": {
          "base_uri": "https://localhost:8080/",
          "height": 1000
        },
        "outputId": "411230d8-56c0-483e-a696-19f1d00c762f"
      },
      "source": [
        "a,b = test_case.summury(0.05)"
      ],
      "execution_count": null,
      "outputs": [
        {
          "output_type": "stream",
          "text": [
            "Cost on interation1 is [[0.5]]\n",
            "[0.43013163]\n",
            "Cost on interation2 is [[0.49098061]]\n",
            "[0.40862505]\n",
            "Cost on interation3 is [[0.4828406]]\n",
            "[0.3881938]\n",
            "Cost on interation4 is [[0.47549425]]\n",
            "[0.36878411]\n",
            "Cost on interation5 is [[0.46886417]]\n",
            "[0.3503449]\n",
            "Cost on interation6 is [[0.46288051]]\n",
            "[0.33282766]\n",
            "Cost on interation7 is [[0.45748027]]\n",
            "[0.31618627]\n",
            "Cost on interation8 is [[0.45260655]]\n",
            "[0.30037696]\n",
            "Cost on interation9 is [[0.44820802]]\n",
            "[0.28535811]\n",
            "Cost on interation10 is [[0.44423834]]\n",
            "[0.27109021]\n",
            "Cost on interation11 is [[0.44065571]]\n",
            "[0.2575357]\n",
            "Cost on interation12 is [[0.43742238]]\n",
            "[0.24465891]\n",
            "Cost on interation13 is [[0.43450431]]\n",
            "[0.23242596]\n",
            "Cost on interation14 is [[0.43187074]]\n",
            "[0.22080467]\n",
            "Cost on interation15 is [[0.42949395]]\n",
            "[0.20976443]\n",
            "Cost on interation16 is [[0.42734889]]\n",
            "[0.19927621]\n",
            "Cost on interation17 is [[0.42541298]]\n",
            "[0.1893124]\n",
            "Cost on interation18 is [[0.42366582]]\n",
            "[0.17984678]\n",
            "Cost on interation19 is [[0.42208901]]\n",
            "[0.17085444]\n",
            "Cost on interation20 is [[0.42066594]]\n",
            "[0.16231172]\n",
            "Cost on interation21 is [[0.41938161]]\n",
            "[0.15419613]\n",
            "Cost on interation22 is [[0.41822251]]\n",
            "[0.14648633]\n",
            "Cost on interation23 is [[0.41717642]]\n",
            "[0.13916201]\n",
            "Cost on interation24 is [[0.41623233]]\n",
            "[0.13220391]\n",
            "Cost on interation25 is [[0.41538028]]\n",
            "[0.12559371]\n",
            "Cost on interation26 is [[0.41461131]]\n",
            "[0.11931403]\n",
            "Cost on interation27 is [[0.41391731]]\n",
            "[0.11334833]\n",
            "Cost on interation28 is [[0.41329098]]\n",
            "[0.10768091]\n",
            "Cost on interation29 is [[0.41272572]]\n",
            "[0.10229687]\n",
            "Cost on interation30 is [[0.41221556]]\n",
            "[0.09718202]\n",
            "Cost on interation31 is [[0.41175515]]\n",
            "[0.09232292]\n",
            "Cost on interation32 is [[0.41133963]]\n",
            "[0.08770678]\n",
            "Cost on interation33 is [[0.41096462]]\n",
            "[0.08332144]\n",
            "Cost on interation34 is [[0.41062618]]\n",
            "[0.07915536]\n",
            "Cost on interation35 is [[0.41032073]]\n",
            "[0.0751976]\n",
            "Cost on interation36 is [[0.41004506]]\n",
            "[0.07143772]\n",
            "Cost on interation37 is [[0.40979628]]\n",
            "[0.06786583]\n",
            "Cost on interation38 is [[0.40957174]]\n",
            "[0.06447254]\n",
            "Cost on interation39 is [[0.40936911]]\n",
            "[0.06124891]\n",
            "Cost on interation40 is [[0.40918622]]\n",
            "[0.05818647]\n",
            "Cost on interation41 is [[0.40902117]]\n",
            "[0.05527714]\n",
            "Cost on interation42 is [[0.40887221]]\n",
            "[0.05251329]\n",
            "Cost on interation43 is [[0.40873778]]\n",
            "[0.04988762]\n"
          ],
          "name": "stdout"
        }
      ]
    },
    {
      "cell_type": "code",
      "metadata": {
        "id": "LrHRi--6bTE2",
        "colab_type": "code",
        "colab": {}
      },
      "source": [
        "plt.scatter(X[:,1],Y)"
      ],
      "execution_count": null,
      "outputs": []
    },
    {
      "cell_type": "code",
      "metadata": {
        "id": "E4YhGVBeg1SW",
        "colab_type": "code",
        "colab": {}
      },
      "source": [
        "ret_Mc = sm.add_constant(X_reshaped)\n",
        "results = sm.OLS(Y_reshaped,ret_Mc).fit()\n",
        "print(results.summary())"
      ],
      "execution_count": null,
      "outputs": []
    }
  ]
}